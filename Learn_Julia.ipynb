{
 "cells": [
  {
   "cell_type": "markdown",
   "id": "native-panic",
   "metadata": {},
   "source": [
    "# Julia 的基本数据和相应运算"
   ]
  },
  {
   "cell_type": "markdown",
   "id": "labeled-lloyd",
   "metadata": {},
   "source": [
    "## 整数与浮点数\n",
    "\n",
    "Julia\n",
    "\n",
    "程序中的整数值可以直接写成如 123 或者 -123 这样。 虽然整数有多种类型， ⼀般程序中不必特别关⼼整数常量的具体类型。 Julia 允许使⽤特别⻓的整数， 这时其类型为BigInt。 Julia 的浮点数可以写成带点的形式如 123.0 , 1.23 , 也可以写成带有10 的幂次如 1.23e3 (表示 ), 1.23e-3 ( 表示 ) 。 这些写法都属于\n",
    "\n",
    "1.23 × 103 \n",
    "\n",
    "1.23 × 10−3 \n",
    "\n",
    "Float64\n",
    "\n",
    "类型的浮点数。Julia 还有其他类型的浮点数，但是科学计算中主要使⽤Float64类型， 在别的语⾔中这称为双精度浮点数。 Julia 还提供了任意精度整数与任意精度浮点数。 布尔类型Bool 只有两个值：true 和false 。"
   ]
  },
  {
   "cell_type": "markdown",
   "id": "enabling-twist",
   "metadata": {},
   "source": [
    "# 四则运算\n",
    "表示加、减、乘、除、乘⽅的运算符分别为：\n",
    "\n",
    "+\n",
    "\n",
    "- *\n",
    "\n",
    "/\n",
    "\n",
    "^\n",
    "\n",
    "浮点数的四则运算遵循传统的算数运算规则和优先级规定。 ⽤圆括号改变优先级。如"
   ]
  },
  {
   "cell_type": "code",
   "execution_count": 1,
   "id": "narrow-origin",
   "metadata": {},
   "outputs": [
    {
     "data": {
      "text/plain": [
       "6.039999999999999"
      ]
     },
     "execution_count": 1,
     "metadata": {},
     "output_type": "execute_result"
    }
   ],
   "source": [
    "(1.3+2.5)*2.0 - 3.6/1.2 + 1.2^2"
   ]
  },
  {
   "cell_type": "markdown",
   "id": "sporting-russian",
   "metadata": {},
   "source": [
    "表示 \n",
    "$$(1.3+2.5)*2.0 -3.6/1.2 + 1.2^2$$\n",
    "注意浮点运算引起会造成数值计算误差。"
   ]
  },
  {
   "cell_type": "markdown",
   "id": "useful-prospect",
   "metadata": {},
   "source": [
    "# 整数的四则运算\n",
    "整数加法、减法、乘法结果仍为整数， 这样因为整数的表示范围有限，有可能发⽣溢出。 如"
   ]
  },
  {
   "cell_type": "code",
   "execution_count": 2,
   "id": "signed-separation",
   "metadata": {},
   "outputs": [
    {
     "data": {
      "text/plain": [
       "4"
      ]
     },
     "execution_count": 2,
     "metadata": {},
     "output_type": "execute_result"
    }
   ],
   "source": [
    "10 + 2*3 - 3*4"
   ]
  },
  {
   "cell_type": "markdown",
   "id": "surrounded-sustainability",
   "metadata": {},
   "source": [
    "整数⽤“/” 作的除法总是返回浮点数，即使结果是整数也是⼀样："
   ]
  },
  {
   "cell_type": "code",
   "execution_count": 3,
   "id": "intended-dealing",
   "metadata": {},
   "outputs": [
    {
     "data": {
      "text/plain": [
       "5.0"
      ]
     },
     "execution_count": 3,
     "metadata": {},
     "output_type": "execute_result"
    }
   ],
   "source": [
    "10/2"
   ]
  },
  {
   "cell_type": "markdown",
   "id": "agricultural-radiation",
   "metadata": {},
   "source": [
    "求整数除法的商，⽤ ÷ 运算符 , 如"
   ]
  },
  {
   "cell_type": "code",
   "execution_count": 4,
   "id": "going-registration",
   "metadata": {},
   "outputs": [
    {
     "data": {
      "text/plain": [
       "1"
      ]
     },
     "execution_count": 4,
     "metadata": {},
     "output_type": "execute_result"
    }
   ],
   "source": [
    "5÷3"
   ]
  },
  {
   "cell_type": "markdown",
   "id": "brazilian-upper",
   "metadata": {},
   "source": [
    "其中 ÷ 的输⼊⽅法是在命令⾏中输⼊ \\div 后按TAB 键。 这种⽅法可以输⼊许多数学符号， 如 α (alpha) ， π (pi) ， ∑ (sum) ，等等。\n",
    "\n",
    "整数⽤ a % b 表示a 整除b 的余数，结果符号总是取a 的符号。如"
   ]
  },
  {
   "cell_type": "code",
   "execution_count": 5,
   "id": "enhanced-durham",
   "metadata": {},
   "outputs": [
    {
     "data": {
      "text/plain": [
       "1"
      ]
     },
     "execution_count": 5,
     "metadata": {},
     "output_type": "execute_result"
    }
   ],
   "source": [
    "10 % 3"
   ]
  },
  {
   "cell_type": "code",
   "execution_count": 6,
   "id": "rising-representation",
   "metadata": {},
   "outputs": [
    {
     "data": {
      "text/plain": [
       "3"
      ]
     },
     "execution_count": 6,
     "metadata": {},
     "output_type": "execute_result"
    }
   ],
   "source": [
    "# \\div\n",
    "10 ÷ 3 "
   ]
  },
  {
   "cell_type": "code",
   "execution_count": 7,
   "id": "artificial-solution",
   "metadata": {},
   "outputs": [
    {
     "data": {
      "text/plain": [
       "π = 3.1415926535897..."
      ]
     },
     "execution_count": 7,
     "metadata": {},
     "output_type": "execute_result"
    }
   ],
   "source": [
    "# \\pi\n",
    "π"
   ]
  },
  {
   "cell_type": "code",
   "execution_count": 8,
   "id": "distinct-chocolate",
   "metadata": {},
   "outputs": [
    {
     "data": {
      "text/plain": [
       "3"
      ]
     },
     "execution_count": 8,
     "metadata": {},
     "output_type": "execute_result"
    }
   ],
   "source": [
    "# \\alpha = 1\n",
    "# \\beta = 2\n",
    "# \\alpha + \\beta\n",
    "α = 1\n",
    "β = 2\n",
    "α + β"
   ]
  },
  {
   "cell_type": "markdown",
   "id": "greater-generator",
   "metadata": {},
   "source": [
    "整数与浮点数的混合运算会将整数转换成浮点数再计算。\n",
    "# 数学函数\n",
    "和其它科学计算语⾔类似， Julia 也⽀持常⻅的数学函数， 如 log , exp , sqrt , sin , cos , tan 等。 round(x) 将 x 四舍五⼊为整数， round(x, digits=2) 将 x 四舍五⼊到两位⼩数。 floor(x) 求⼩于等于 x 的最⼤整数， ceil(x) 求⼤于等于 x 的最"
   ]
  },
  {
   "cell_type": "markdown",
   "id": "descending-korea",
   "metadata": {},
   "source": [
    "# 字符串\n",
    "单个字符在两边⽤单撇号界定，如 'A' ，AbstractChar ' 囧 ' 。 字符都是⽤Unicode 编码存储，具体使⽤UTF-8 编码。 每个字符可能使⽤1 到4 个字节表示。 字符的类型为 Char， ⾃定义函数中的字符参数可声明为 。 零到多个字符组成字符串， 程序中的字符串在两边⽤双撇号界定，如 \"A cat\" ， \" 泰囧 \" 。 字符串数据类型名称为String ， ⾃定义函数中的字符串参数可声明为 AbstractString。\n",
    "\n",
    "对于占据多⾏的字符串， 可以在两侧分别⽤三个双撇号界定。如"
   ]
  },
  {
   "cell_type": "code",
   "execution_count": 9,
   "id": "tutorial-cream",
   "metadata": {},
   "outputs": [
    {
     "data": {
      "text/plain": [
       "\"这是第⼀⾏ \\n这是第⼆⾏ \\n三个双撇号界定的字符串中间的单个双撇号\\\"不需要转义\\n\""
      ]
     },
     "execution_count": 9,
     "metadata": {},
     "output_type": "execute_result"
    }
   ],
   "source": [
    "\"\"\"\n",
    "这是第⼀⾏ \n",
    "这是第⼆⾏ \n",
    "三个双撇号界定的字符串中间的单个双撇号\"不需要转义\n",
    "\"\"\""
   ]
  },
  {
   "cell_type": "markdown",
   "id": "competent-tongue",
   "metadata": {},
   "source": [
    "注意多⾏内容的⾸⾏不需要紧挨着写在开头的三个双撇号后⾯同⼀⾏内。 \n",
    "字符串属于不可修改类型(immutable) ， 即不能直接修改字符串的内容， 但可以给保存了字符串的变量赋值为⼀个新的字符串。 \n",
    "⽤星号 “ * ” 连接两个字符串，也可以将字符连接成字符串，如"
   ]
  },
  {
   "cell_type": "code",
   "execution_count": 10,
   "id": "honey-father",
   "metadata": {},
   "outputs": [
    {
     "data": {
      "text/plain": [
       "\"#这是美好的⼀天。\""
      ]
     },
     "execution_count": 10,
     "metadata": {},
     "output_type": "execute_result"
    }
   ],
   "source": [
    "'#' * \"这是\"*\"美好的⼀天\" * \"。\" "
   ]
  },
  {
   "cell_type": "markdown",
   "id": "valid-pickup",
   "metadata": {},
   "source": [
    "# 变量\n",
    "变量名是⼀个标识符， ⽤来指向某个值在计算机内存中的存储位置。 变量名可以⽤英⽂⼤⼩写字⺟、下划线、数字、允许的Unicode 字符， 区分⼤⼩写。 变量名不 允许使⽤空格、句点以及其它标点符号和井号之类的特殊字符。 为兼容性起⻅，尽可能不要⽤汉字作为变量名。 变量名主要使⽤⼩写字⺟、数字和下划线构成， 两个英⽂单词之间可以⽤下划线连接， 如 total_number ， 也 可以在单词之间使⽤开头字⺟⼤写来区分单词， 如 totalNumber ， 第⼀个单词仍全部⽤⼩写。\n",
    "\n",
    "给变量赋值，即将变量名与⼀个内存中的内容联系起来，也称为绑定（binding ）， 使⽤等号“=” ，等号左边写变量名，右边写要保存到变量中的值。如"
   ]
  },
  {
   "cell_type": "code",
   "execution_count": 11,
   "id": "detected-orientation",
   "metadata": {},
   "outputs": [
    {
     "data": {
      "text/plain": [
       "123"
      ]
     },
     "execution_count": 11,
     "metadata": {},
     "output_type": "execute_result"
    }
   ],
   "source": [
    "x = 123"
   ]
  },
  {
   "cell_type": "code",
   "execution_count": 12,
   "id": "assisted-hunger",
   "metadata": {},
   "outputs": [
    {
     "data": {
      "text/plain": [
       "2.5"
      ]
     },
     "execution_count": 12,
     "metadata": {},
     "output_type": "execute_result"
    }
   ],
   "source": [
    "y = 1+3/2"
   ]
  },
  {
   "cell_type": "code",
   "execution_count": 13,
   "id": "coordinated-print",
   "metadata": {},
   "outputs": [
    {
     "data": {
      "text/plain": [
       "\"北京市海淀区颐和园路5号\""
      ]
     },
     "execution_count": 13,
     "metadata": {},
     "output_type": "execute_result"
    }
   ],
   "source": [
    "addr10086 = \"北京市海淀区颐和园路5号\""
   ]
  },
  {
   "cell_type": "markdown",
   "id": "mathematical-ministry",
   "metadata": {},
   "source": [
    "变量的类型是由它保存的（指向的内存中的）值的类型决定的， 不需要说明变量类型（Julia 允许说明变量类型，但⼀般不需要）。 变量赋值后，就可以参与运算，如："
   ]
  },
  {
   "cell_type": "code",
   "execution_count": 14,
   "id": "hollow-denial",
   "metadata": {},
   "outputs": [
    {
     "data": {
      "text/plain": [
       "128.0"
      ]
     },
     "execution_count": 14,
     "metadata": {},
     "output_type": "execute_result"
    }
   ],
   "source": [
    "x = 123\n",
    "\n",
    "y = 1+3/2\n",
    "\n",
    "x + y*2"
   ]
  },
  {
   "cell_type": "markdown",
   "id": "metric-engineering",
   "metadata": {},
   "source": [
    "变量名前⾯紧挨着数字表示相乘，如"
   ]
  },
  {
   "cell_type": "code",
   "execution_count": 15,
   "id": "adaptive-gross",
   "metadata": {},
   "outputs": [
    {
     "data": {
      "text/plain": [
       "128.0"
      ]
     },
     "execution_count": 15,
     "metadata": {},
     "output_type": "execute_result"
    }
   ],
   "source": [
    "x + 2y"
   ]
  },
  {
   "cell_type": "markdown",
   "id": "worldwide-medication",
   "metadata": {},
   "source": [
    "赋值还有⼀种计算修改简写⽅式， 即将变量值进⾏四则运算后保存回原变量， 格式为 x op= expr ， 其中 op 是某种四则运算， 这等价于 x = x op expr"
   ]
  },
  {
   "cell_type": "code",
   "execution_count": 16,
   "id": "occupational-announcement",
   "metadata": {},
   "outputs": [
    {
     "data": {
      "text/plain": [
       "223"
      ]
     },
     "execution_count": 16,
     "metadata": {},
     "output_type": "execute_result"
    }
   ],
   "source": [
    "x = 123\n",
    "\n",
    "x += 100\n",
    "x"
   ]
  },
  {
   "cell_type": "markdown",
   "id": "sustainable-group",
   "metadata": {},
   "source": [
    "# ⽐较和逻辑运算\n",
    "## ⽐较运算\n",
    "两个数值之间⽤如下的⽐较运算符进⾏⽐较：\n",
    "\n",
    "==\n",
    "\n",
    "!=\n",
    "\n",
    "<\n",
    "\n",
    "<=\n",
    "\n",
    "> >=\n",
    "\n",
    "分别表示等于、不等于、⼩于、⼩于等于、⼤于、⼤于等于。 要特别注意“ 等于” ⽐较⽤两个等号表示。 ⽐较的结果是true( 真值) 或者false( 假值) 。 结果类型为布尔型（Bool ）。 如"
   ]
  },
  {
   "cell_type": "code",
   "execution_count": 17,
   "id": "opponent-polish",
   "metadata": {},
   "outputs": [
    {
     "data": {
      "text/plain": [
       "true"
      ]
     },
     "execution_count": 17,
     "metadata": {},
     "output_type": "execute_result"
    }
   ],
   "source": [
    "1 == 1.0"
   ]
  },
  {
   "cell_type": "code",
   "execution_count": 18,
   "id": "conscious-sunset",
   "metadata": {},
   "outputs": [
    {
     "data": {
      "text/plain": [
       "true"
      ]
     },
     "execution_count": 18,
     "metadata": {},
     "output_type": "execute_result"
    }
   ],
   "source": [
    "2 != 2.0001"
   ]
  },
  {
   "cell_type": "code",
   "execution_count": 19,
   "id": "absent-complaint",
   "metadata": {},
   "outputs": [
    {
     "data": {
      "text/plain": [
       "true"
      ]
     },
     "execution_count": 19,
     "metadata": {},
     "output_type": "execute_result"
    }
   ],
   "source": [
    "3.5 > -1"
   ]
  },
  {
   "cell_type": "code",
   "execution_count": 20,
   "id": "cross-locator",
   "metadata": {},
   "outputs": [
    {
     "data": {
      "text/plain": [
       "false"
      ]
     },
     "execution_count": 20,
     "metadata": {},
     "output_type": "execute_result"
    }
   ],
   "source": [
    "3.5 < -1.5"
   ]
  },
  {
   "cell_type": "code",
   "execution_count": 21,
   "id": "forced-livestock",
   "metadata": {},
   "outputs": [
    {
     "data": {
      "text/plain": [
       "false"
      ]
     },
     "execution_count": 21,
     "metadata": {},
     "output_type": "execute_result"
    }
   ],
   "source": [
    "-3.5 >= 1.2"
   ]
  },
  {
   "cell_type": "code",
   "execution_count": 22,
   "id": "enormous-implement",
   "metadata": {},
   "outputs": [
    {
     "data": {
      "text/plain": [
       "true"
      ]
     },
     "execution_count": 22,
     "metadata": {},
     "output_type": "execute_result"
    }
   ],
   "source": [
    "-3.5 <= 1.2"
   ]
  },
  {
   "cell_type": "markdown",
   "id": "competent-monkey",
   "metadata": {},
   "source": [
    "两个字符串之间也可以⽐较， ⽐较时按字典序⽐较， 两个字符的次序按照其Unicode 编码值⽐较。如"
   ]
  },
  {
   "cell_type": "code",
   "execution_count": 23,
   "id": "finnish-hamilton",
   "metadata": {},
   "outputs": [
    {
     "data": {
      "text/plain": [
       "false"
      ]
     },
     "execution_count": 23,
     "metadata": {},
     "output_type": "execute_result"
    }
   ],
   "source": [
    "\"abc\" == \"ABC\""
   ]
  },
  {
   "cell_type": "code",
   "execution_count": 24,
   "id": "exempt-intermediate",
   "metadata": {},
   "outputs": [
    {
     "data": {
      "text/plain": [
       "false"
      ]
     },
     "execution_count": 24,
     "metadata": {},
     "output_type": "execute_result"
    }
   ],
   "source": [
    "\"ac\" < \"ab\""
   ]
  },
  {
   "cell_type": "code",
   "execution_count": 25,
   "id": "remarkable-helicopter",
   "metadata": {},
   "outputs": [
    {
     "data": {
      "text/plain": [
       "false"
      ]
     },
     "execution_count": 25,
     "metadata": {},
     "output_type": "execute_result"
    }
   ],
   "source": [
    "\"abc\" < \"abb\""
   ]
  },
  {
   "cell_type": "code",
   "execution_count": 26,
   "id": "severe-municipality",
   "metadata": {},
   "outputs": [
    {
     "data": {
      "text/plain": [
       "true"
      ]
     },
     "execution_count": 26,
     "metadata": {},
     "output_type": "execute_result"
    }
   ],
   "source": [
    "\"abc\" > \"abb\""
   ]
  },
  {
   "cell_type": "code",
   "execution_count": 27,
   "id": "interesting-given",
   "metadata": {},
   "outputs": [
    {
     "data": {
      "text/plain": [
       "false"
      ]
     },
     "execution_count": 27,
     "metadata": {},
     "output_type": "execute_result"
    }
   ],
   "source": [
    "\"陕⻄省\" == \"⼭⻄省\""
   ]
  },
  {
   "cell_type": "markdown",
   "id": "neither-garlic",
   "metadata": {},
   "source": [
    "## 逻辑运算\n",
    "⽐较通常有变量参与。如"
   ]
  },
  {
   "cell_type": "code",
   "execution_count": 28,
   "id": "framed-possession",
   "metadata": {},
   "outputs": [
    {
     "data": {
      "text/plain": [
       "false"
      ]
     },
     "execution_count": 28,
     "metadata": {},
     "output_type": "execute_result"
    }
   ],
   "source": [
    "age = 35; sex = \"F\"\n",
    "age < 18"
   ]
  },
  {
   "cell_type": "code",
   "execution_count": 29,
   "id": "illegal-blend",
   "metadata": {},
   "outputs": [
    {
     "data": {
      "text/plain": [
       "true"
      ]
     },
     "execution_count": 29,
     "metadata": {},
     "output_type": "execute_result"
    }
   ],
   "source": [
    "sex == \"F\""
   ]
  },
  {
   "cell_type": "markdown",
   "id": "ongoing-muslim",
   "metadata": {},
   "source": [
    "有时需要构造复合的条件， 如“ 年龄不⾜18 岁且性别为⼥” ， “ 年龄在18 岁以上或者性别为男” 等。 \n",
    "\n",
    "⽤ && 表示要求两个条件同时成⽴， ⽤ || 表示只要两个条件之⼀成⽴则结果为真， ⽤ !cond 表示 cond 的反⾯。 如"
   ]
  },
  {
   "cell_type": "code",
   "execution_count": 30,
   "id": "binding-tourism",
   "metadata": {},
   "outputs": [
    {
     "data": {
      "text/plain": [
       "false"
      ]
     },
     "execution_count": 30,
     "metadata": {},
     "output_type": "execute_result"
    }
   ],
   "source": [
    "age < 18 && sex == \"F\""
   ]
  },
  {
   "cell_type": "code",
   "execution_count": 31,
   "id": "actual-milton",
   "metadata": {},
   "outputs": [
    {
     "data": {
      "text/plain": [
       "true"
      ]
     },
     "execution_count": 31,
     "metadata": {},
     "output_type": "execute_result"
    }
   ],
   "source": [
    "age >= 18 || sex == \"M\""
   ]
  },
  {
   "cell_type": "markdown",
   "id": "lesbian-english",
   "metadata": {},
   "source": [
    "# 简单的输出\n",
    "在Julia 命令⾏，键⼊变量名或者计算表达式直接在下⾯显示结果。 可以⽤ println() 函数显示指定的变量和结果。如"
   ]
  },
  {
   "cell_type": "code",
   "execution_count": 32,
   "id": "accomplished-vocabulary",
   "metadata": {},
   "outputs": [
    {
     "name": "stdout",
     "output_type": "stream",
     "text": [
      "228.0\n"
     ]
    }
   ],
   "source": [
    "println(x+y*2)"
   ]
  },
  {
   "cell_type": "markdown",
   "id": "fuzzy-panic",
   "metadata": {},
   "source": [
    "在 println() 中多个要输出的项⽤逗号分开。 两项之间没有默认的分隔， 如果需要分隔可以⾃⼰写在输出项中。"
   ]
  },
  {
   "cell_type": "code",
   "execution_count": 33,
   "id": "metallic-suite",
   "metadata": {},
   "outputs": [
    {
     "name": "stdout",
     "output_type": "stream",
     "text": [
      "x=223 y=2.5 x + y*2 =228.0\n"
     ]
    }
   ],
   "source": [
    "println(\"x=\", x, \" y=\", y, \" x + y*2 =\", x+y*2)"
   ]
  },
  {
   "cell_type": "markdown",
   "id": "upper-indie",
   "metadata": {},
   "source": [
    "println()函数输出会将后续输出设置到下⼀⾏， ⽽ print() 函数与 println() 类似但是将后续输出设置在当前⾏。\n",
    "\n",
    "\n",
    "在命令⾏运⾏时， 表达式的值⾃动显示。 在表达式末尾⽤分号结尾表示不要显示该表达式的结果。\n",
    "\n",
    "在⽤ include() 命令执⾏整个脚本⽂件时， 每个表达式的结果默认不⾃动显示。 \n",
    "\n",
    "字符串中可以⽤ $ 变量名 或 $( 表达式 ) 的格式插⼊变量或表达式的值。例如"
   ]
  },
  {
   "cell_type": "code",
   "execution_count": 34,
   "id": "infrared-unemployment",
   "metadata": {},
   "outputs": [
    {
     "data": {
      "text/plain": [
       "\"My name is John\""
      ]
     },
     "execution_count": 34,
     "metadata": {},
     "output_type": "execute_result"
    }
   ],
   "source": [
    "name = \"John\"; \"My name is $name\""
   ]
  },
  {
   "cell_type": "code",
   "execution_count": 35,
   "id": "occasional-projection",
   "metadata": {},
   "outputs": [
    {
     "data": {
      "text/plain": [
       "\"100John999\""
      ]
     },
     "execution_count": 35,
     "metadata": {},
     "output_type": "execute_result"
    }
   ],
   "source": [
    "\"100$(name)999\""
   ]
  },
  {
   "cell_type": "markdown",
   "id": "cross-doctrine",
   "metadata": {},
   "source": [
    "# 向量\n",
    "Julia 的向量实际是⼀维数组。 在程序中直接定义⼀个向量， 只要⽤⽅括号内写多个逗号分隔的数值，如"
   ]
  },
  {
   "cell_type": "code",
   "execution_count": 36,
   "id": "interpreted-herald",
   "metadata": {},
   "outputs": [
    {
     "data": {
      "text/plain": [
       "5-element Array{Int64,1}:\n",
       "  1\n",
       "  3\n",
       "  4\n",
       "  9\n",
       " 13"
      ]
     },
     "execution_count": 36,
     "metadata": {},
     "output_type": "execute_result"
    }
   ],
   "source": [
    "v1 = [1, 3, 4, 9, 13]"
   ]
  },
  {
   "cell_type": "code",
   "execution_count": 37,
   "id": "discrete-strategy",
   "metadata": {},
   "outputs": [
    {
     "data": {
      "text/plain": [
       "4-element Array{Float64,1}:\n",
       " 1.5\n",
       " 3.0\n",
       " 4.0\n",
       " 9.12"
      ]
     },
     "execution_count": 37,
     "metadata": {},
     "output_type": "execute_result"
    }
   ],
   "source": [
    "v2 = [1.5, 3, 4, 9.12]"
   ]
  },
  {
   "cell_type": "markdown",
   "id": "standard-salad",
   "metadata": {},
   "source": [
    "其中v1 是整数型的向量， v2 是浮点型Float64 的向量。\n",
    "\n",
    "⽤ length(x) 求向量 x 的元素个数，如"
   ]
  },
  {
   "cell_type": "code",
   "execution_count": 38,
   "id": "fantastic-twist",
   "metadata": {},
   "outputs": [
    {
     "data": {
      "text/plain": [
       "5"
      ]
     },
     "execution_count": 38,
     "metadata": {},
     "output_type": "execute_result"
    }
   ],
   "source": [
    "length(v1)"
   ]
  },
  {
   "cell_type": "markdown",
   "id": "signed-sender",
   "metadata": {},
   "source": [
    "可以⽤ 1:5 定义⼀个范围， 在仅使⽤其中的元素值⽽不改写时作⽤与 [1, 2, 3, 4, 5] 类似。 \n",
    "\n",
    "1:2:9 定义带有步⻓的范围，表示的值与 [1, 3, 5, 7, 9] 类似。 \n",
    "\n",
    "范围只需要存储必要的开始、结束、步⻓信息， 所以更节省空间， 但是不能对其元素进⾏修改。"
   ]
  },
  {
   "cell_type": "code",
   "execution_count": 39,
   "id": "capital-direction",
   "metadata": {},
   "outputs": [
    {
     "data": {
      "text/plain": [
       "1:5"
      ]
     },
     "execution_count": 39,
     "metadata": {},
     "output_type": "execute_result"
    }
   ],
   "source": [
    "1:5"
   ]
  },
  {
   "cell_type": "code",
   "execution_count": 40,
   "id": "parliamentary-telescope",
   "metadata": {},
   "outputs": [
    {
     "data": {
      "text/plain": [
       "1:2:9"
      ]
     },
     "execution_count": 40,
     "metadata": {},
     "output_type": "execute_result"
    }
   ],
   "source": [
    "1:2:9"
   ]
  },
  {
   "cell_type": "markdown",
   "id": "graphic-accreditation",
   "metadata": {},
   "source": [
    "范围不是向量，⽤ collect() 函数可以将范围转换成向量，如："
   ]
  },
  {
   "cell_type": "code",
   "execution_count": 41,
   "id": "enclosed-fever",
   "metadata": {},
   "outputs": [
    {
     "data": {
      "text/plain": [
       "5-element Array{Int64,1}:\n",
       " 1\n",
       " 2\n",
       " 3\n",
       " 4\n",
       " 5"
      ]
     },
     "execution_count": 41,
     "metadata": {},
     "output_type": "execute_result"
    }
   ],
   "source": [
    "collect(1:5)"
   ]
  },
  {
   "cell_type": "code",
   "execution_count": 42,
   "id": "behind-senate",
   "metadata": {},
   "outputs": [
    {
     "data": {
      "text/plain": [
       "5-element Array{Int64,1}:\n",
       " 1\n",
       " 3\n",
       " 5\n",
       " 7\n",
       " 9"
      ]
     },
     "execution_count": 42,
     "metadata": {},
     "output_type": "execute_result"
    }
   ],
   "source": [
    "collect(1:2:9)"
   ]
  },
  {
   "cell_type": "markdown",
   "id": "collected-genre",
   "metadata": {},
   "source": [
    "# 向量下标\n",
    "若 x 是向量， i 是正整数， x[i] 表示向量的第 i 个元素。 第⼀个元素的下标为1 ，这种规定与R 、FORTRAN 语⾔相同， 但不同于Python 、C 、C++ 、JAVA 语 ⾔。 如"
   ]
  },
  {
   "cell_type": "code",
   "execution_count": 43,
   "id": "western-mills",
   "metadata": {},
   "outputs": [
    {
     "data": {
      "text/plain": [
       "3"
      ]
     },
     "execution_count": 43,
     "metadata": {},
     "output_type": "execute_result"
    }
   ],
   "source": [
    "v1[2]"
   ]
  },
  {
   "cell_type": "markdown",
   "id": "utility-genome",
   "metadata": {},
   "source": [
    "⽤ end 表示最后⼀个元素位置，如："
   ]
  },
  {
   "cell_type": "code",
   "execution_count": 44,
   "id": "aware-memorabilia",
   "metadata": {},
   "outputs": [
    {
     "data": {
      "text/plain": [
       "13"
      ]
     },
     "execution_count": 44,
     "metadata": {},
     "output_type": "execute_result"
    }
   ],
   "source": [
    "v1[end]"
   ]
  },
  {
   "cell_type": "markdown",
   "id": "polar-justice",
   "metadata": {},
   "source": [
    "对元素赋值将在原地修改元素的值，如"
   ]
  },
  {
   "cell_type": "markdown",
   "id": "acceptable-decline",
   "metadata": {},
   "source": [
    "v1[2] = -999; v1"
   ]
  },
  {
   "cell_type": "markdown",
   "id": "heated-christopher",
   "metadata": {},
   "source": [
    "⽤范围作为下标\n",
    "\n",
    "下标可以是⼀个范围，如"
   ]
  },
  {
   "cell_type": "code",
   "execution_count": 45,
   "id": "introductory-antarctica",
   "metadata": {},
   "outputs": [
    {
     "data": {
      "text/plain": [
       "3-element Array{Int64,1}:\n",
       " 3\n",
       " 4\n",
       " 9"
      ]
     },
     "execution_count": 45,
     "metadata": {},
     "output_type": "execute_result"
    }
   ],
   "source": [
    "v1[2:4]"
   ]
  },
  {
   "cell_type": "markdown",
   "id": "reported-portal",
   "metadata": {},
   "source": [
    "在这种范围中，⽤ end 表示最后⼀个下标，如"
   ]
  },
  {
   "cell_type": "code",
   "execution_count": 46,
   "id": "indie-skill",
   "metadata": {},
   "outputs": [
    {
     "data": {
      "text/plain": [
       "2-element Array{Int64,1}:\n",
       "  9\n",
       " 13"
      ]
     },
     "execution_count": 46,
     "metadata": {},
     "output_type": "execute_result"
    }
   ],
   "source": [
    "v1[4:end]"
   ]
  },
  {
   "cell_type": "code",
   "execution_count": 47,
   "id": "missing-toilet",
   "metadata": {},
   "outputs": [
    {
     "data": {
      "text/plain": [
       "4-element Array{Int64,1}:\n",
       " 1\n",
       " 3\n",
       " 4\n",
       " 9"
      ]
     },
     "execution_count": 47,
     "metadata": {},
     "output_type": "execute_result"
    }
   ],
   "source": [
    "v1[1:end-1]"
   ]
  },
  {
   "cell_type": "markdown",
   "id": "cleared-tutorial",
   "metadata": {},
   "source": [
    "数组作为下标\n",
    "\n",
    "向量的下标也可以是⼀个下标数组，如"
   ]
  },
  {
   "cell_type": "code",
   "execution_count": 48,
   "id": "planned-childhood",
   "metadata": {},
   "outputs": [
    {
     "data": {
      "text/plain": [
       "3-element Array{Int64,1}:\n",
       "  1\n",
       "  4\n",
       " 13"
      ]
     },
     "execution_count": 48,
     "metadata": {},
     "output_type": "execute_result"
    }
   ],
   "source": [
    "v1[[1, 3, 5]]"
   ]
  },
  {
   "cell_type": "markdown",
   "id": "reported-leadership",
   "metadata": {},
   "source": [
    "取出的多个元素可以修改，可以⽤ .= 运算符赋值为同⼀个标量，如："
   ]
  },
  {
   "cell_type": "code",
   "execution_count": 49,
   "id": "governmental-territory",
   "metadata": {},
   "outputs": [
    {
     "data": {
      "text/plain": [
       "5-element Array{Int64,1}:\n",
       "  0\n",
       "  0\n",
       "  0\n",
       "  9\n",
       " 13"
      ]
     },
     "execution_count": 49,
     "metadata": {},
     "output_type": "execute_result"
    }
   ],
   "source": [
    "v1[1:3] .= 0; v1"
   ]
  },
  {
   "cell_type": "markdown",
   "id": "monthly-scotland",
   "metadata": {},
   "source": [
    "也可以分别赋值，如"
   ]
  },
  {
   "cell_type": "code",
   "execution_count": 50,
   "id": "difficult-gibson",
   "metadata": {},
   "outputs": [
    {
     "data": {
      "text/plain": [
       "5-element Array{Int64,1}:\n",
       " 101\n",
       "   0\n",
       " 303\n",
       "   9\n",
       " 505"
      ]
     },
     "execution_count": 50,
     "metadata": {},
     "output_type": "execute_result"
    }
   ],
   "source": [
    "v1[[1, 3, 5]] = [101, 303, 505]; v1"
   ]
  },
  {
   "cell_type": "markdown",
   "id": "guilty-mentor",
   "metadata": {},
   "source": [
    "# 向量与标量的运算\n",
    "向量与⼀个标量作四则运算， 将运算符前⾯加句点“.” ： .+ .- .* ./ .^ 表示向量的每个元素分别与该标量作四则运算， 结果仍是向量。如"
   ]
  },
  {
   "cell_type": "code",
   "execution_count": 51,
   "id": "nominated-advice",
   "metadata": {},
   "outputs": [
    {
     "data": {
      "text/plain": [
       "5-element Array{Int64,1}:\n",
       " 101\n",
       " 103\n",
       " 104\n",
       " 109\n",
       " 113"
      ]
     },
     "execution_count": 51,
     "metadata": {},
     "output_type": "execute_result"
    }
   ],
   "source": [
    "v1 = [1, 3, 4, 9, 13]\n",
    "\n",
    "v1 .+ 100"
   ]
  },
  {
   "cell_type": "code",
   "execution_count": 52,
   "id": "remarkable-moldova",
   "metadata": {},
   "outputs": [
    {
     "data": {
      "text/plain": [
       "5-element Array{Int64,1}:\n",
       " 99\n",
       " 97\n",
       " 96\n",
       " 91\n",
       " 87"
      ]
     },
     "execution_count": 52,
     "metadata": {},
     "output_type": "execute_result"
    }
   ],
   "source": [
    "100 .- v1"
   ]
  },
  {
   "cell_type": "code",
   "execution_count": 53,
   "id": "finished-nature",
   "metadata": {},
   "outputs": [
    {
     "data": {
      "text/plain": [
       "5-element Array{Int64,1}:\n",
       "  2\n",
       "  6\n",
       "  8\n",
       " 18\n",
       " 26"
      ]
     },
     "execution_count": 53,
     "metadata": {},
     "output_type": "execute_result"
    }
   ],
   "source": [
    "v1 .* 2"
   ]
  },
  {
   "cell_type": "code",
   "execution_count": 54,
   "id": "pediatric-visibility",
   "metadata": {},
   "outputs": [
    {
     "data": {
      "text/plain": [
       "5-element Array{Float64,1}:\n",
       " 0.1\n",
       " 0.3\n",
       " 0.4\n",
       " 0.9\n",
       " 1.3"
      ]
     },
     "execution_count": 54,
     "metadata": {},
     "output_type": "execute_result"
    }
   ],
   "source": [
    "v1 ./ 10"
   ]
  },
  {
   "cell_type": "code",
   "execution_count": 55,
   "id": "sized-discharge",
   "metadata": {},
   "outputs": [
    {
     "data": {
      "text/plain": [
       "5-element Array{Int64,1}:\n",
       "   1\n",
       "   9\n",
       "  16\n",
       "  81\n",
       " 169"
      ]
     },
     "execution_count": 55,
     "metadata": {},
     "output_type": "execute_result"
    }
   ],
   "source": [
    "v1 .^ 2"
   ]
  },
  {
   "cell_type": "markdown",
   "id": "finite-pencil",
   "metadata": {},
   "source": [
    "# 向量与向量的四则运算\n",
    "两个等⻓的向量之间作加点的四则运算，表示对应元素作相应的运算。如"
   ]
  },
  {
   "cell_type": "code",
   "execution_count": 56,
   "id": "interim-offset",
   "metadata": {},
   "outputs": [
    {
     "data": {
      "text/plain": [
       "5-element Array{Int64,1}:\n",
       "  3\n",
       "  8\n",
       " 10\n",
       " 16\n",
       " 11"
      ]
     },
     "execution_count": 56,
     "metadata": {},
     "output_type": "execute_result"
    }
   ],
   "source": [
    "v1 = [1, 3, 4, 9, 1]\n",
    "\n",
    "v3 = [2, 5, 6, 7, 10]\n",
    "\n",
    "v1 .+ v3"
   ]
  },
  {
   "cell_type": "markdown",
   "id": "clinical-things",
   "metadata": {},
   "source": [
    "向量加减法也可以⽤不加点的运算符，但对应元素间乘除必须⽤加点的“.*” 和“./” ："
   ]
  },
  {
   "cell_type": "code",
   "execution_count": 57,
   "id": "expensive-prompt",
   "metadata": {},
   "outputs": [
    {
     "data": {
      "text/plain": [
       "5-element Array{Int64,1}:\n",
       "  3\n",
       "  8\n",
       " 10\n",
       " 16\n",
       " 11"
      ]
     },
     "execution_count": 57,
     "metadata": {},
     "output_type": "execute_result"
    }
   ],
   "source": [
    "v1 + v3"
   ]
  },
  {
   "cell_type": "code",
   "execution_count": 58,
   "id": "according-spectrum",
   "metadata": {},
   "outputs": [
    {
     "data": {
      "text/plain": [
       "5-element Array{Int64,1}:\n",
       "  3\n",
       "  8\n",
       " 10\n",
       " 16\n",
       " 11"
      ]
     },
     "execution_count": 58,
     "metadata": {},
     "output_type": "execute_result"
    }
   ],
   "source": [
    "v1 .+ v3"
   ]
  },
  {
   "cell_type": "code",
   "execution_count": 59,
   "id": "dated-mystery",
   "metadata": {},
   "outputs": [
    {
     "data": {
      "text/plain": [
       "5-element Array{Int64,1}:\n",
       " -1\n",
       " -2\n",
       " -2\n",
       "  2\n",
       " -9"
      ]
     },
     "execution_count": 59,
     "metadata": {},
     "output_type": "execute_result"
    }
   ],
   "source": [
    "v1 .- v3"
   ]
  },
  {
   "cell_type": "code",
   "execution_count": 60,
   "id": "passing-collective",
   "metadata": {},
   "outputs": [
    {
     "data": {
      "text/plain": [
       "5-element Array{Int64,1}:\n",
       "  2\n",
       " 15\n",
       " 24\n",
       " 63\n",
       " 10"
      ]
     },
     "execution_count": 60,
     "metadata": {},
     "output_type": "execute_result"
    }
   ],
   "source": [
    "v1 .* v3"
   ]
  },
  {
   "cell_type": "code",
   "execution_count": 61,
   "id": "cosmetic-double",
   "metadata": {},
   "outputs": [
    {
     "data": {
      "text/plain": [
       "5-element Array{Float64,1}:\n",
       " 0.5\n",
       " 0.6\n",
       " 0.6666666666666666\n",
       " 1.2857142857142858\n",
       " 0.1"
      ]
     },
     "execution_count": 61,
     "metadata": {},
     "output_type": "execute_result"
    }
   ],
   "source": [
    "v1 ./ v3"
   ]
  },
  {
   "cell_type": "markdown",
   "id": "subject-father",
   "metadata": {},
   "source": [
    "# 向量的⽐较运算\n",
    "\n",
    "两个标量之间可以进⾏如下的⽐较运算： == !== < <= > >= 向量每个元素与标量之间、两个向量对应元素之间⽐较， 只要在前⾯的⽐较运算符前⾯增加句点：\n",
    "\n",
    ".==\n",
    "\n",
    ".!=\n",
    "\n",
    ".<\n",
    "\n",
    ".<=\n",
    "\n",
    ".>\n",
    "\n",
    ".>=\n",
    "\n",
    "标量⽐较结果之间可以⽤ && 表示“ 同时成⽴ ”, || 表示“ ⾄少其中之⼀成⽴” 。 布尔型标量与向量、向量之间可以⽤ .& 表示元素间“ 与” ， .| 表示元素间“ 或” 。"
   ]
  },
  {
   "cell_type": "markdown",
   "id": "interstate-ratio",
   "metadata": {},
   "source": [
    "# 向量初始化\n",
    "⽤ zeros(n) 可以⽣成元素类型为Float64 、元素值为0 、⻓度为n 的向量，如"
   ]
  },
  {
   "cell_type": "code",
   "execution_count": 62,
   "id": "conscious-august",
   "metadata": {},
   "outputs": [
    {
     "data": {
      "text/plain": [
       "3-element Array{Float64,1}:\n",
       " 0.0\n",
       " 0.0\n",
       " 0.0"
      ]
     },
     "execution_count": 62,
     "metadata": {},
     "output_type": "execute_result"
    }
   ],
   "source": [
    "zeros(3)"
   ]
  },
  {
   "cell_type": "markdown",
   "id": "limiting-paste",
   "metadata": {},
   "source": [
    "⽤ zeros(Int64, 3) 可以⽣成指定类型的（这⾥是Int64 ）初始化向量。如"
   ]
  },
  {
   "cell_type": "code",
   "execution_count": 63,
   "id": "requested-carolina",
   "metadata": {},
   "outputs": [
    {
     "data": {
      "text/plain": [
       "3-element Array{Int64,1}:\n",
       " 0\n",
       " 0\n",
       " 0"
      ]
     },
     "execution_count": 63,
     "metadata": {},
     "output_type": "execute_result"
    }
   ],
   "source": [
    "zeros(Int64, 3)"
   ]
  },
  {
   "cell_type": "markdown",
   "id": "joint-adventure",
   "metadata": {},
   "source": [
    "⽤ Vector{Float64}(undef, n) 可以⽣成元素类型为Float64 的⻓度为n 的向量， 元素值未初始化，如"
   ]
  },
  {
   "cell_type": "code",
   "execution_count": 64,
   "id": "gorgeous-somalia",
   "metadata": {},
   "outputs": [
    {
     "data": {
      "text/plain": [
       "3-element Array{Float64,1}:\n",
       " 2.220572551e-314\n",
       " 2.220572583e-314\n",
       " 2.2205725987e-314"
      ]
     },
     "execution_count": 64,
     "metadata": {},
     "output_type": "execute_result"
    }
   ],
   "source": [
    " Vector{Float64}(undef, 3)"
   ]
  },
  {
   "cell_type": "markdown",
   "id": "ecological-lucas",
   "metadata": {},
   "source": [
    "类似可以⽣成其它元素类型的元素值未初始化向量，如"
   ]
  },
  {
   "cell_type": "code",
   "execution_count": 65,
   "id": "direct-scottish",
   "metadata": {},
   "outputs": [
    {
     "data": {
      "text/plain": [
       "3-element Array{Int64,1}:\n",
       " 4494551504\n",
       " 5003724304\n",
       " 4494551568"
      ]
     },
     "execution_count": 65,
     "metadata": {},
     "output_type": "execute_result"
    }
   ],
   "source": [
    "Vector{Int}(undef, 3)"
   ]
  },
  {
   "cell_type": "markdown",
   "id": "double-college",
   "metadata": {},
   "source": [
    "⽤这样的办法为向量分配存储空间后可以随后再填⼊元素值。 \n",
    "\n",
    "可以⽤ collect() 将⼀个范围转换成可修改的向量。"
   ]
  },
  {
   "cell_type": "code",
   "execution_count": null,
   "id": "ready-croatia",
   "metadata": {},
   "outputs": [],
   "source": []
  }
 ],
 "metadata": {
  "kernelspec": {
   "display_name": "Julia 1.5.3",
   "language": "julia",
   "name": "julia-1.5"
  },
  "language_info": {
   "file_extension": ".jl",
   "mimetype": "application/julia",
   "name": "julia",
   "version": "1.5.3"
  }
 },
 "nbformat": 4,
 "nbformat_minor": 5
}
