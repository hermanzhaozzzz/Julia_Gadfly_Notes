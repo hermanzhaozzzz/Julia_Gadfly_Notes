{
 "cells": [
  {
   "cell_type": "code",
   "execution_count": 1,
   "metadata": {},
   "outputs": [],
   "source": [
    "# 后端\n",
    "# Gadfly支持通过Compose.jl中的本机Julian渲染器开箱即用地创建SVG图像。\n",
    "# 但是，PNG，PDF，PS和PGF格式需要Julia绑定到cairo和fontconfig，可以通过以下方式安装"
   ]
  },
  {
   "cell_type": "code",
   "execution_count": 2,
   "metadata": {},
   "outputs": [
    {
     "name": "stderr",
     "output_type": "stream",
     "text": [
      "\u001b[32m\u001b[1m   Updating\u001b[22m\u001b[39m registry at `~/.julia/registries/General`\n",
      "tar: Failed to set default locale\n",
      "tar: Failed to set default locale\n",
      "\u001b[32m\u001b[1m  Resolving\u001b[22m\u001b[39m package versions...\n",
      "tar: Failed to set default locale\n",
      "tar: Failed to set default locale\n",
      "tar: Failed to set default locale\n",
      "tar: Failed to set default locale\n",
      "tar: Failed to set default locale\n",
      "\u001b[32m\u001b[1m  Installed\u001b[22m\u001b[39m Xorg_libXrender_jll ─────── v0.9.10+4\n",
      "\u001b[32m\u001b[1m  Installed\u001b[22m\u001b[39m FreeType2_jll ───────────── v2.10.1+5\n",
      "\u001b[32m\u001b[1m  Installed\u001b[22m\u001b[39m Xorg_libXext_jll ────────── v1.3.4+4\n",
      "\u001b[32m\u001b[1m  Installed\u001b[22m\u001b[39m Graphics ────────────────── v1.0.2\n",
      "\u001b[32m\u001b[1m  Installed\u001b[22m\u001b[39m Cairo ───────────────────── v1.0.5\n",
      "tar: Failed to set default locale\n",
      "tar: Failed to set default locale\n",
      "\u001b[32m\u001b[1m  Installed\u001b[22m\u001b[39m Xorg_xtrans_jll ─────────── v1.4.0+3\n",
      "\u001b[32m\u001b[1m  Installed\u001b[22m\u001b[39m PCRE_jll ────────────────── v8.42.0+4\n",
      "tar: Failed to set default locale\n",
      "\u001b[32m\u001b[1m  Installed\u001b[22m\u001b[39m Xorg_libXdmcp_jll ───────── v1.1.3+4\n",
      "tar: Failed to set default locale\n",
      "\u001b[32m\u001b[1m  Installed\u001b[22m\u001b[39m Libgpg_error_jll ────────── v1.36.0+3\n",
      "tar: Failed to set default locale\n",
      "tar: Failed to set default locale\n",
      "\u001b[32m\u001b[1m  Installed\u001b[22m\u001b[39m FriBidi_jll ─────────────── v1.0.5+6\n",
      "\u001b[32m\u001b[1m  Installed\u001b[22m\u001b[39m Fontconfig_jll ──────────── v2.13.1+14\n",
      "tar: Failed to set default locale\n",
      "\u001b[32m\u001b[1m  Installed\u001b[22m\u001b[39m libpng_jll ──────────────── v1.6.37+6\n",
      "tar: Failed to set default locale\n",
      "\u001b[32m\u001b[1m  Installed\u001b[22m\u001b[39m Glib_jll ────────────────── v2.59.0+4\n",
      "tar: Failed to set default locale\n",
      "\u001b[32m\u001b[1m  Installed\u001b[22m\u001b[39m Xorg_libxcb_jll ─────────── v1.13.0+3\n",
      "tar: Failed to set default locale\n",
      "tar: Failed to set default locale\n",
      "\u001b[32m\u001b[1m  Installed\u001b[22m\u001b[39m Xorg_libXau_jll ─────────── v1.0.9+4\n",
      "\u001b[32m\u001b[1m  Installed\u001b[22m\u001b[39m Pango_jll ───────────────── v1.42.4+10\n",
      "tar: Failed to set default locale\n",
      "tar: Failed to set default locale\n",
      "\u001b[32m\u001b[1m  Installed\u001b[22m\u001b[39m Expat_jll ───────────────── v2.2.7+6\n",
      "\u001b[32m\u001b[1m  Installed\u001b[22m\u001b[39m Xorg_libpthread_stubs_jll ─ v0.1.0+3\n",
      "tar: Failed to set default locale\n",
      "\u001b[32m\u001b[1m  Installed\u001b[22m\u001b[39m XSLT_jll ────────────────── v1.1.33+4\n",
      "tar: Failed to set default locale\n",
      "\u001b[32m\u001b[1m  Installed\u001b[22m\u001b[39m Xorg_libX11_jll ─────────── v1.6.9+4\n",
      "tar: Failed to set default locale\n",
      "tar: Failed to set default locale\n",
      "tar: Failed to set default locale\n",
      "tar: Failed to set default locale\n",
      "\u001b[32m\u001b[1m  Installed\u001b[22m\u001b[39m LZO_jll ─────────────────── v2.10.0+3\n",
      "\u001b[32m\u001b[1m  Installed\u001b[22m\u001b[39m Bzip2_jll ───────────────── v1.0.6+5\n",
      "\u001b[32m\u001b[1m  Installed\u001b[22m\u001b[39m HarfBuzz_jll ────────────── v2.6.1+10\n",
      "\u001b[32m\u001b[1m  Installed\u001b[22m\u001b[39m Libgcrypt_jll ───────────── v1.8.5+4\n",
      "tar: Failed to set default locale\n",
      "\u001b[32m\u001b[1m  Installed\u001b[22m\u001b[39m Graphite2_jll ───────────── v1.3.13+4\n",
      "tar: Failed to set default locale\n",
      "\u001b[32m\u001b[1m  Installed\u001b[22m\u001b[39m Libffi_jll ──────────────── v3.2.1+4\n",
      "tar: Failed to set default locale\n",
      "tar: Failed to set default locale\n",
      "\u001b[32m\u001b[1m  Installed\u001b[22m\u001b[39m ICU_jll ─────────────────── v67.1.0+3\n",
      "\u001b[32m\u001b[1m  Installed\u001b[22m\u001b[39m Cairo_jll ───────────────── v1.16.0+6\n",
      "tar: Failed to set default locale\n",
      "tar: Failed to set default locale\n",
      "\u001b[32m\u001b[1m  Installed\u001b[22m\u001b[39m Libmount_jll ────────────── v2.34.0+3\n",
      "\u001b[32m\u001b[1m  Installed\u001b[22m\u001b[39m Gettext_jll ─────────────── v0.20.1+7\n",
      "tar: Failed to set default locale\n",
      "tar: Failed to set default locale\n",
      "\u001b[32m\u001b[1m  Installed\u001b[22m\u001b[39m Pixman_jll ──────────────── v0.40.0+0\n",
      "\u001b[32m\u001b[1m  Installed\u001b[22m\u001b[39m Libuuid_jll ─────────────── v2.34.0+7\n",
      "tar: Failed to set default locale\n",
      "\u001b[32m\u001b[1m  Installed\u001b[22m\u001b[39m NaNMath ─────────────────── v0.3.5\n",
      "tar: Failed to set default locale\n",
      "tar: Failed to set default locale\n",
      "tar: Failed to set default locale\n",
      "tar: Failed to set default locale\n",
      "tar: Failed to set default locale\n",
      "tar: Failed to set default locale\n",
      "tar: Failed to set default locale\n",
      "tar: Failed to set default locale\n",
      "tar: Failed to set default locale\n",
      "tar: Failed to set default locale\n",
      "tar: Failed to set default locale\n",
      "tar: Failed to set default locale\n",
      "tar: Failed to set default locale\n",
      "tar: Failed to set default locale\n",
      "tar: Failed to set default locale\n",
      "tar: Failed to set default locale\n",
      "tar: Failed to set default locale\n",
      "tar: Failed to set default locale\n",
      "tar: Failed to set default locale\n",
      "tar: Failed to set default locale\n",
      "\u001b[32m\u001b[1mUpdating\u001b[22m\u001b[39m `~/.julia/environments/v1.5/Project.toml`\n",
      " \u001b[90m [159f3aea] \u001b[39m\u001b[92m+ Cairo v1.0.5\u001b[39m\n",
      "\u001b[32m\u001b[1mUpdating\u001b[22m\u001b[39m `~/.julia/environments/v1.5/Manifest.toml`\n",
      " \u001b[90m [6e34b625] \u001b[39m\u001b[92m+ Bzip2_jll v1.0.6+5\u001b[39m\n",
      " \u001b[90m [159f3aea] \u001b[39m\u001b[92m+ Cairo v1.0.5\u001b[39m\n",
      " \u001b[90m [83423d85] \u001b[39m\u001b[92m+ Cairo_jll v1.16.0+6\u001b[39m\n",
      " \u001b[90m [2e619515] \u001b[39m\u001b[92m+ Expat_jll v2.2.7+6\u001b[39m\n",
      " \u001b[90m [a3f928ae] \u001b[39m\u001b[92m+ Fontconfig_jll v2.13.1+14\u001b[39m\n",
      " \u001b[90m [d7e528f0] \u001b[39m\u001b[92m+ FreeType2_jll v2.10.1+5\u001b[39m\n",
      " \u001b[90m [559328eb] \u001b[39m\u001b[92m+ FriBidi_jll v1.0.5+6\u001b[39m\n",
      " \u001b[90m [78b55507] \u001b[39m\u001b[92m+ Gettext_jll v0.20.1+7\u001b[39m\n",
      " \u001b[90m [7746bdde] \u001b[39m\u001b[92m+ Glib_jll v2.59.0+4\u001b[39m\n",
      " \u001b[90m [a2bd30eb] \u001b[39m\u001b[92m+ Graphics v1.0.2\u001b[39m\n",
      " \u001b[90m [3b182d85] \u001b[39m\u001b[92m+ Graphite2_jll v1.3.13+4\u001b[39m\n",
      " \u001b[90m [2e76f6c2] \u001b[39m\u001b[92m+ HarfBuzz_jll v2.6.1+10\u001b[39m\n",
      " \u001b[90m [a51ab1cf] \u001b[39m\u001b[92m+ ICU_jll v67.1.0+3\u001b[39m\n",
      " \u001b[90m [dd4b983a] \u001b[39m\u001b[92m+ LZO_jll v2.10.0+3\u001b[39m\n",
      " \u001b[90m [e9f186c6] \u001b[39m\u001b[92m+ Libffi_jll v3.2.1+4\u001b[39m\n",
      " \u001b[90m [d4300ac3] \u001b[39m\u001b[92m+ Libgcrypt_jll v1.8.5+4\u001b[39m\n",
      " \u001b[90m [7add5ba3] \u001b[39m\u001b[92m+ Libgpg_error_jll v1.36.0+3\u001b[39m\n",
      " \u001b[90m [4b2f31a3] \u001b[39m\u001b[92m+ Libmount_jll v2.34.0+3\u001b[39m\n",
      " \u001b[90m [38a345b3] \u001b[39m\u001b[92m+ Libuuid_jll v2.34.0+7\u001b[39m\n",
      " \u001b[90m [77ba4419] \u001b[39m\u001b[92m+ NaNMath v0.3.5\u001b[39m\n",
      " \u001b[90m [2f80f16e] \u001b[39m\u001b[92m+ PCRE_jll v8.42.0+4\u001b[39m\n",
      " \u001b[90m [36c8627f] \u001b[39m\u001b[92m+ Pango_jll v1.42.4+10\u001b[39m\n",
      " \u001b[90m [30392449] \u001b[39m\u001b[92m+ Pixman_jll v0.40.0+0\u001b[39m\n",
      " \u001b[90m [aed1982a] \u001b[39m\u001b[92m+ XSLT_jll v1.1.33+4\u001b[39m\n",
      " \u001b[90m [4f6342f7] \u001b[39m\u001b[92m+ Xorg_libX11_jll v1.6.9+4\u001b[39m\n",
      " \u001b[90m [0c0b7dd1] \u001b[39m\u001b[92m+ Xorg_libXau_jll v1.0.9+4\u001b[39m\n",
      " \u001b[90m [a3789734] \u001b[39m\u001b[92m+ Xorg_libXdmcp_jll v1.1.3+4\u001b[39m\n",
      " \u001b[90m [1082639a] \u001b[39m\u001b[92m+ Xorg_libXext_jll v1.3.4+4\u001b[39m\n",
      " \u001b[90m [ea2f1a96] \u001b[39m\u001b[92m+ Xorg_libXrender_jll v0.9.10+4\u001b[39m\n",
      " \u001b[90m [14d82f49] \u001b[39m\u001b[92m+ Xorg_libpthread_stubs_jll v0.1.0+3\u001b[39m\n",
      " \u001b[90m [c7cfdc94] \u001b[39m\u001b[92m+ Xorg_libxcb_jll v1.13.0+3\u001b[39m\n",
      " \u001b[90m [c5fb5394] \u001b[39m\u001b[92m+ Xorg_xtrans_jll v1.4.0+3\u001b[39m\n",
      " \u001b[90m [b53b4c65] \u001b[39m\u001b[92m+ libpng_jll v1.6.37+6\u001b[39m\n",
      "\u001b[32m\u001b[1m  Resolving\u001b[22m\u001b[39m package versions...\n",
      "tar: Failed to set default locale\n",
      "\u001b[32m\u001b[1m  Installed\u001b[22m\u001b[39m Fontconfig ─ v0.4.0\n",
      "\u001b[32m\u001b[1mUpdating\u001b[22m\u001b[39m `~/.julia/environments/v1.5/Project.toml`\n",
      " \u001b[90m [186bb1d3] \u001b[39m\u001b[92m+ Fontconfig v0.4.0\u001b[39m\n",
      "\u001b[32m\u001b[1mUpdating\u001b[22m\u001b[39m `~/.julia/environments/v1.5/Manifest.toml`\n",
      " \u001b[90m [186bb1d3] \u001b[39m\u001b[92m+ Fontconfig v0.4.0\u001b[39m\n"
     ]
    }
   ],
   "source": [
    "import Pkg\n",
    "Pkg.add(\"Cairo\")\n",
    "Pkg.add(\"Fontconfig\")"
   ]
  },
  {
   "cell_type": "code",
   "execution_count": 3,
   "metadata": {},
   "outputs": [
    {
     "name": "stderr",
     "output_type": "stream",
     "text": [
      "┌ Info: Precompiling Cairo [159f3aea-2a34-519c-b102-8c37f9878175]\n",
      "└ @ Base loading.jl:1278\n",
      "┌ Info: Precompiling Fontconfig [186bb1d3-e1f7-5a2c-a377-96d770f13627]\n",
      "└ @ Base loading.jl:1278\n"
     ]
    }
   ],
   "source": [
    "using Cairo, Fontconfig, Gadfly"
   ]
  },
  {
   "cell_type": "code",
   "execution_count": 4,
   "metadata": {},
   "outputs": [
    {
     "data": {
      "text/plain": [
       "false"
      ]
     },
     "execution_count": 4,
     "metadata": {},
     "output_type": "execute_result"
    }
   ],
   "source": [
    "p = plot(y=[1,2,3])\n",
    "draw(SVG(\"005_foo.svg\", 6inch, 4inch), p)"
   ]
  },
  {
   "cell_type": "code",
   "execution_count": 5,
   "metadata": {},
   "outputs": [
    {
     "data": {
      "text/plain": [
       "false"
      ]
     },
     "execution_count": 5,
     "metadata": {},
     "output_type": "execute_result"
    }
   ],
   "source": [
    "# or\n",
    "p |> SVG(\"005_foo2.svg\", 6inch, 4inch)"
   ]
  },
  {
   "cell_type": "code",
   "execution_count": 6,
   "metadata": {},
   "outputs": [
    {
     "data": {
      "text/plain": [
       "false"
      ]
     },
     "execution_count": 6,
     "metadata": {},
     "output_type": "execute_result"
    }
   ],
   "source": [
    "set_default_plot_size(6inch, 4inch)\n",
    "p |> SVG(\"005_foo3.svg\")\n",
    "p |> SVG(\"005_foo4.svg\")\n",
    "p |> SVG(\"005_foo5.svg\")"
   ]
  },
  {
   "cell_type": "code",
   "execution_count": 7,
   "metadata": {},
   "outputs": [],
   "source": [
    "# 更换SVG为一个SVGJS，PNG，PDF，PS，或PGF\n",
    "p |> PDF(\"005_foo6.pdf\")"
   ]
  },
  {
   "cell_type": "code",
   "execution_count": 8,
   "metadata": {},
   "outputs": [
    {
     "data": {
      "text/plain": [
       "false"
      ]
     },
     "execution_count": 8,
     "metadata": {},
     "output_type": "execute_result"
    }
   ],
   "source": [
    "draw(SVGJS(\"foo.svg\", 6inch, 6inch), p)"
   ]
  },
  {
   "cell_type": "code",
   "execution_count": null,
   "metadata": {},
   "outputs": [],
   "source": []
  }
 ],
 "metadata": {
  "kernelspec": {
   "display_name": "Julia 1.5.3",
   "language": "julia",
   "name": "julia-1.5"
  },
  "language_info": {
   "file_extension": ".jl",
   "mimetype": "application/julia",
   "name": "julia",
   "version": "1.5.3"
  }
 },
 "nbformat": 4,
 "nbformat_minor": 4
}
